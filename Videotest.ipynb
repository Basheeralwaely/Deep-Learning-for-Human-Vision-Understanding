{
 "cells": [
  {
   "cell_type": "markdown",
   "metadata": {},
   "source": [
    "# Deep Learning for Human Vision Understanding \n",
    "\n",
    "## Basheer Alwaely and Ali Alsam"
   ]
  },
  {
   "cell_type": "markdown",
   "metadata": {},
   "source": [
    "**Check tensorflow-GPU**"
   ]
  },
  {
   "cell_type": "code",
   "execution_count": null,
   "metadata": {},
   "outputs": [],
   "source": [
    "import tensorflow as tf\n",
    "tf.config.list_physical_devices('GPU')"
   ]
  },
  {
   "cell_type": "markdown",
   "metadata": {},
   "source": [
    "**Check Cuda version**"
   ]
  },
  {
   "cell_type": "code",
   "execution_count": null,
   "metadata": {},
   "outputs": [],
   "source": [
    "!nvidia-smi"
   ]
  },
  {
   "cell_type": "markdown",
   "metadata": {},
   "source": [
    "**Import dependencies**"
   ]
  },
  {
   "cell_type": "code",
   "execution_count": null,
   "metadata": {},
   "outputs": [],
   "source": [
    "import keras\n",
    "from keras.preprocessing import image\n",
    "from keras.preprocessing.image import ImageDataGenerator, array_to_img, img_to_array, load_img\n",
    "from skimage.transform import resize\n",
    "from skimage.io import imsave\n",
    "from time import time\n",
    "import numpy as np\n",
    "import matplotlib.pyplot as plt\n",
    "import os\n",
    "import random\n",
    "import tensorflow as tf\n",
    "from PIL import Image, ImageFile\n",
    "import cv2\n",
    "from IPython.display import Video\n",
    "from tensorflow.keras.models import load_model\n",
    "config = tf.compat.v1.ConfigProto()\n",
    "config.gpu_options.allow_growth = True\n",
    "session = tf.compat.v1.InteractiveSession(config=config)"
   ]
  },
  {
   "cell_type": "markdown",
   "metadata": {},
   "source": [
    "**Import model**"
   ]
  },
  {
   "cell_type": "code",
   "execution_count": null,
   "metadata": {},
   "outputs": [],
   "source": [
    "Gamma = 35\n",
    "IMG_SIZE = 256\n",
    "model = load_model('models/model_blue_35_DIV2K.h5')  #15 gaussian size"
   ]
  },
  {
   "cell_type": "markdown",
   "metadata": {},
   "source": [
    "**Blurring function**"
   ]
  },
  {
   "cell_type": "code",
   "execution_count": null,
   "metadata": {},
   "outputs": [],
   "source": [
    "def data(Gamma,frame):\n",
    "    XX =[]\n",
    "    YY =[]\n",
    "    r, g, b = cv2.split(frame)\n",
    "    bb = cv2.GaussianBlur(b,(3*Gamma,3*Gamma),Gamma)\n",
    "    XX = cv2.merge ( (r, g, bb) )\n",
    "    YY = (b)\n",
    "    XX = np.reshape(XX,(1, IMG_SIZE, IMG_SIZE,3))\n",
    "    YY = np.reshape(YY,(1, IMG_SIZE, IMG_SIZE,1))\n",
    "    return(XX,YY)"
   ]
  },
  {
   "cell_type": "markdown",
   "metadata": {},
   "source": [
    "**Get the video and write the output as a AVI file**\n",
    "\n",
    "**Saving only the blue channel,**\n",
    "\n",
    "*You need to select camera or update the video path*"
   ]
  },
  {
   "cell_type": "code",
   "execution_count": null,
   "metadata": {},
   "outputs": [],
   "source": [
    "videopath = 'C:/Users/bashe/OneDrive/Desktop/v1.mp4'                    ## choose you own video\n",
    "#videopath = 0                                                           ## for camera\n",
    "vid = cv2.VideoCapture(videopath)\n",
    "L = np.zeros((IMG_SIZE, IMG_SIZE, 3))                                                                               \n",
    "w = vid.get(cv2.CAP_PROP_FRAME_WIDTH);\n",
    "h = vid.get(cv2.CAP_PROP_FRAME_HEIGHT); \n",
    "fourcc = cv2.VideoWriter_fourcc(*'XVID')\n",
    "out = cv2.VideoWriter('C:/Users/bashe/OneDrive/Desktop/output.avi',fourcc, 20.0, (IMG_SIZE,IMG_SIZE))     ## where to save\n",
    "\n",
    "while(vid.isOpened()):\n",
    "    ret, frame = vid.read()\n",
    "    if ret==True:\n",
    "       # frame = frame[:,0:int(h)]\n",
    "        frame1 =  cv2.resize(frame, (IMG_SIZE, IMG_SIZE))/255\n",
    "        [XX,YY] = data(Gamma,frame1)\n",
    "        output = np.reshape(model.predict(XX), (IMG_SIZE, IMG_SIZE))\n",
    "        L[:,:,0] = output *255\n",
    "        L[:,:,1] = output *255\n",
    "        L[:,:,2] = output *255\n",
    "        L = L.astype(np.uint8)\n",
    "        out.write(L)\n",
    "        cv2.imshow('video',L)\n",
    "\n",
    "        if cv2.waitKey(1) & 0xFF == ord('q'):\n",
    "            break\n",
    "    else:\n",
    "        break\n",
    "\n",
    "# Release everything if job is finished\n",
    "vid.release()\n",
    "out.release()\n",
    "cv2.destroyAllWindows()"
   ]
  },
  {
   "cell_type": "markdown",
   "metadata": {},
   "source": [
    "**Get the video and write the output as a AVI file**\n",
    "\n",
    "*You need to update the paths*"
   ]
  },
  {
   "cell_type": "code",
   "execution_count": null,
   "metadata": {},
   "outputs": [],
   "source": [
    "videopath = 'C:/Users/bashe/OneDrive/Desktop/v3.mp4'                     ## choose you own video\n",
    "#videopath = 0                                                           ## for camera\n",
    "vid = cv2.VideoCapture(videopath)\n",
    "L = np.zeros((IMG_SIZE, IMG_SIZE, 3))                                                                               \n",
    "w = vid.get(cv2.CAP_PROP_FRAME_WIDTH);\n",
    "h = vid.get(cv2.CAP_PROP_FRAME_HEIGHT); \n",
    "fourcc = cv2.VideoWriter_fourcc(*'XVID')\n",
    "out = cv2.VideoWriter('C:/Users/bashe/OneDrive/Desktop/output.avi',fourcc, 20.0, (IMG_SIZE,IMG_SIZE))\n",
    "\n",
    "while(vid.isOpened()):\n",
    "    ret, frame = vid.read()\n",
    "    if ret==True:\n",
    "       # frame = frame[:,0:int(h)]\n",
    "        frame1 =  cv2.resize(frame, (IMG_SIZE, IMG_SIZE))/255\n",
    "        [XX,YY] = data(Gamma,frame1)\n",
    "        output = np.reshape(model.predict(XX), (IMG_SIZE, IMG_SIZE))\n",
    "        L[:,:,0] = np.squeeze(XX)[0]\n",
    "        L[:,:,1] = np.squeeze(XX)[1]\n",
    "        L[:,:,2] = output * 1\n",
    "      #  low_values_flags = L < 0  # Where values are low\n",
    "    #    L[low_values_flags] = 0 \n",
    "        L = L.astype(np.uint8)\n",
    "        out.write(L)\n",
    "        cv2.imshow('video',L)\n",
    "\n",
    "        if cv2.waitKey(1) & 0xFF == ord('q'):\n",
    "            break\n",
    "    else:\n",
    "        break\n",
    "\n",
    "# Release everything if job is finished\n",
    "vid.release()\n",
    "out.release()\n",
    "cv2.destroyAllWindows()"
   ]
  },
  {
   "cell_type": "code",
   "execution_count": null,
   "metadata": {},
   "outputs": [],
   "source": []
  }
 ],
 "metadata": {
  "kernelspec": {
   "display_name": "text",
   "language": "python",
   "name": "text"
  },
  "language_info": {
   "codemirror_mode": {
    "name": "ipython",
    "version": 3
   },
   "file_extension": ".py",
   "mimetype": "text/x-python",
   "name": "python",
   "nbconvert_exporter": "python",
   "pygments_lexer": "ipython3",
   "version": "3.7.0"
  }
 },
 "nbformat": 4,
 "nbformat_minor": 2
}
